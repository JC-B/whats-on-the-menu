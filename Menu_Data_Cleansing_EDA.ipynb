{
 "cells": [
  {
   "cell_type": "code",
   "execution_count": 1,
   "metadata": {
    "collapsed": false,
    "deletable": true,
    "editable": true
   },
   "outputs": [],
   "source": [
    "import numpy as np\n",
    "import pandas as pd\n",
    "import re\n",
    "import difflib\n",
    "import seaborn as sns\n",
    "import math\n",
    "import matplotlib.pyplot as plt \n",
    "%matplotlib inline\n",
    "from math import factorial"
   ]
  },
  {
   "cell_type": "code",
   "execution_count": 3,
   "metadata": {
    "collapsed": false,
    "deletable": true,
    "editable": true
   },
   "outputs": [
    {
     "name": "stdout",
     "output_type": "stream",
     "text": [
      "/Users/jaichitra.balakrishnan/galvanizeu/DSCI6002-student/Project\r\n"
     ]
    }
   ],
   "source": [
    "!pwd"
   ]
  },
  {
   "cell_type": "markdown",
   "metadata": {
    "collapsed": true,
    "deletable": true,
    "editable": true
   },
   "source": [
    "**Read Data**"
   ]
  },
  {
   "cell_type": "code",
   "execution_count": 2,
   "metadata": {
    "collapsed": false,
    "deletable": true,
    "editable": true
   },
   "outputs": [],
   "source": [
    "menu     = pd.read_csv(\"data/whats-on-the-menu/Menu.csv\")"
   ]
  },
  {
   "cell_type": "code",
   "execution_count": 5,
   "metadata": {
    "collapsed": true,
    "deletable": true,
    "editable": true
   },
   "outputs": [],
   "source": [
    "menuitem = pd.read_csv(\"data/whats-on-the-menu/MenuItem.csv\")"
   ]
  },
  {
   "cell_type": "code",
   "execution_count": 6,
   "metadata": {
    "collapsed": true,
    "deletable": true,
    "editable": true
   },
   "outputs": [],
   "source": [
    "menupage = pd.read_csv(\"data/whats-on-the-menu/MenuPage.csv\")"
   ]
  },
  {
   "cell_type": "code",
   "execution_count": 7,
   "metadata": {
    "collapsed": true,
    "deletable": true,
    "editable": true
   },
   "outputs": [],
   "source": [
    "dish     = pd.read_csv(\"data/whats-on-the-menu/Dish.csv\")"
   ]
  },
  {
   "cell_type": "markdown",
   "metadata": {
    "deletable": true,
    "editable": true
   },
   "source": [
    "**Data Health Check and Prepare Clean Data Set for Analysis**"
   ]
  },
  {
   "cell_type": "code",
   "execution_count": 8,
   "metadata": {
    "collapsed": false,
    "deletable": true,
    "editable": true
   },
   "outputs": [
    {
     "name": "stdout",
     "output_type": "stream",
     "text": [
      "(17545, 20)\n",
      "Index(['id', 'name', 'sponsor', 'event', 'venue', 'place',\n",
      "       'physical_description', 'occasion', 'notes', 'call_number', 'keywords',\n",
      "       'language', 'date', 'location', 'location_type', 'currency',\n",
      "       'currency_symbol', 'status', 'page_count', 'dish_count'],\n",
      "      dtype='object')\n"
     ]
    },
    {
     "data": {
      "text/html": [
       "<div>\n",
       "<table border=\"1\" class=\"dataframe\">\n",
       "  <thead>\n",
       "    <tr style=\"text-align: right;\">\n",
       "      <th></th>\n",
       "      <th>id</th>\n",
       "      <th>name</th>\n",
       "      <th>sponsor</th>\n",
       "      <th>event</th>\n",
       "      <th>venue</th>\n",
       "      <th>place</th>\n",
       "      <th>physical_description</th>\n",
       "      <th>occasion</th>\n",
       "      <th>notes</th>\n",
       "      <th>call_number</th>\n",
       "      <th>keywords</th>\n",
       "      <th>language</th>\n",
       "      <th>date</th>\n",
       "      <th>location</th>\n",
       "      <th>location_type</th>\n",
       "      <th>currency</th>\n",
       "      <th>currency_symbol</th>\n",
       "      <th>status</th>\n",
       "      <th>page_count</th>\n",
       "      <th>dish_count</th>\n",
       "    </tr>\n",
       "  </thead>\n",
       "  <tbody>\n",
       "    <tr>\n",
       "      <th>0</th>\n",
       "      <td>12463</td>\n",
       "      <td>NaN</td>\n",
       "      <td>HOTEL EASTMAN</td>\n",
       "      <td>BREAKFAST</td>\n",
       "      <td>COMMERCIAL</td>\n",
       "      <td>HOT SPRINGS, AR</td>\n",
       "      <td>CARD; 4.75X7.5;</td>\n",
       "      <td>EASTER;</td>\n",
       "      <td>NaN</td>\n",
       "      <td>1900-2822</td>\n",
       "      <td>NaN</td>\n",
       "      <td>NaN</td>\n",
       "      <td>1900-04-15</td>\n",
       "      <td>Hotel Eastman</td>\n",
       "      <td>NaN</td>\n",
       "      <td>NaN</td>\n",
       "      <td>NaN</td>\n",
       "      <td>complete</td>\n",
       "      <td>2</td>\n",
       "      <td>67</td>\n",
       "    </tr>\n",
       "    <tr>\n",
       "      <th>1</th>\n",
       "      <td>12464</td>\n",
       "      <td>NaN</td>\n",
       "      <td>REPUBLICAN HOUSE</td>\n",
       "      <td>[DINNER]</td>\n",
       "      <td>COMMERCIAL</td>\n",
       "      <td>MILWAUKEE, [WI];</td>\n",
       "      <td>CARD; ILLUS; COL; 7.0X9.0;</td>\n",
       "      <td>EASTER;</td>\n",
       "      <td>WEDGEWOOD BLUE CARD; WHITE EMBOSSED GREEK KEY ...</td>\n",
       "      <td>1900-2825</td>\n",
       "      <td>NaN</td>\n",
       "      <td>NaN</td>\n",
       "      <td>1900-04-15</td>\n",
       "      <td>Republican House</td>\n",
       "      <td>NaN</td>\n",
       "      <td>NaN</td>\n",
       "      <td>NaN</td>\n",
       "      <td>complete</td>\n",
       "      <td>2</td>\n",
       "      <td>34</td>\n",
       "    </tr>\n",
       "    <tr>\n",
       "      <th>2</th>\n",
       "      <td>12465</td>\n",
       "      <td>NaN</td>\n",
       "      <td>NORDDEUTSCHER LLOYD BREMEN</td>\n",
       "      <td>FRUHSTUCK/BREAKFAST;</td>\n",
       "      <td>COMMERCIAL</td>\n",
       "      <td>DAMPFER KAISER WILHELM DER GROSSE;</td>\n",
       "      <td>CARD; ILLU; COL; 5.5X8.0;</td>\n",
       "      <td>NaN</td>\n",
       "      <td>MENU IN GERMAN AND ENGLISH; ILLUS, STEAMSHIP A...</td>\n",
       "      <td>1900-2827</td>\n",
       "      <td>NaN</td>\n",
       "      <td>NaN</td>\n",
       "      <td>1900-04-16</td>\n",
       "      <td>Norddeutscher Lloyd Bremen</td>\n",
       "      <td>NaN</td>\n",
       "      <td>NaN</td>\n",
       "      <td>NaN</td>\n",
       "      <td>complete</td>\n",
       "      <td>2</td>\n",
       "      <td>84</td>\n",
       "    </tr>\n",
       "    <tr>\n",
       "      <th>3</th>\n",
       "      <td>12466</td>\n",
       "      <td>NaN</td>\n",
       "      <td>NORDDEUTSCHER LLOYD BREMEN</td>\n",
       "      <td>LUNCH;</td>\n",
       "      <td>COMMERCIAL</td>\n",
       "      <td>DAMPFER KAISER WILHELM DER GROSSE;</td>\n",
       "      <td>CARD; ILLU; COL; 5.5X8.0;</td>\n",
       "      <td>NaN</td>\n",
       "      <td>MENU IN GERMAN AND ENGLISH; ILLUS, HARBOR SCEN...</td>\n",
       "      <td>1900-2828</td>\n",
       "      <td>NaN</td>\n",
       "      <td>NaN</td>\n",
       "      <td>1900-04-16</td>\n",
       "      <td>Norddeutscher Lloyd Bremen</td>\n",
       "      <td>NaN</td>\n",
       "      <td>NaN</td>\n",
       "      <td>NaN</td>\n",
       "      <td>complete</td>\n",
       "      <td>2</td>\n",
       "      <td>63</td>\n",
       "    </tr>\n",
       "    <tr>\n",
       "      <th>4</th>\n",
       "      <td>12467</td>\n",
       "      <td>NaN</td>\n",
       "      <td>NORDDEUTSCHER LLOYD BREMEN</td>\n",
       "      <td>DINNER;</td>\n",
       "      <td>COMMERCIAL</td>\n",
       "      <td>DAMPFER KAISER WILHELM DER GROSSE;</td>\n",
       "      <td>FOLDER; ILLU; COL; 5.5X7.5;</td>\n",
       "      <td>NaN</td>\n",
       "      <td>MENU IN GERMAN AND ENGLISH; ILLUS, HARBOR SCEN...</td>\n",
       "      <td>1900-2829</td>\n",
       "      <td>NaN</td>\n",
       "      <td>NaN</td>\n",
       "      <td>1900-04-16</td>\n",
       "      <td>Norddeutscher Lloyd Bremen</td>\n",
       "      <td>NaN</td>\n",
       "      <td>NaN</td>\n",
       "      <td>NaN</td>\n",
       "      <td>complete</td>\n",
       "      <td>4</td>\n",
       "      <td>33</td>\n",
       "    </tr>\n",
       "  </tbody>\n",
       "</table>\n",
       "</div>"
      ],
      "text/plain": [
       "      id name                     sponsor                 event       venue  \\\n",
       "0  12463  NaN               HOTEL EASTMAN             BREAKFAST  COMMERCIAL   \n",
       "1  12464  NaN            REPUBLICAN HOUSE              [DINNER]  COMMERCIAL   \n",
       "2  12465  NaN  NORDDEUTSCHER LLOYD BREMEN  FRUHSTUCK/BREAKFAST;  COMMERCIAL   \n",
       "3  12466  NaN  NORDDEUTSCHER LLOYD BREMEN                LUNCH;  COMMERCIAL   \n",
       "4  12467  NaN  NORDDEUTSCHER LLOYD BREMEN               DINNER;  COMMERCIAL   \n",
       "\n",
       "                                place         physical_description occasion  \\\n",
       "0                     HOT SPRINGS, AR              CARD; 4.75X7.5;  EASTER;   \n",
       "1                    MILWAUKEE, [WI];   CARD; ILLUS; COL; 7.0X9.0;  EASTER;   \n",
       "2  DAMPFER KAISER WILHELM DER GROSSE;    CARD; ILLU; COL; 5.5X8.0;      NaN   \n",
       "3  DAMPFER KAISER WILHELM DER GROSSE;    CARD; ILLU; COL; 5.5X8.0;      NaN   \n",
       "4  DAMPFER KAISER WILHELM DER GROSSE;  FOLDER; ILLU; COL; 5.5X7.5;      NaN   \n",
       "\n",
       "                                               notes call_number  keywords  \\\n",
       "0                                                NaN   1900-2822       NaN   \n",
       "1  WEDGEWOOD BLUE CARD; WHITE EMBOSSED GREEK KEY ...   1900-2825       NaN   \n",
       "2  MENU IN GERMAN AND ENGLISH; ILLUS, STEAMSHIP A...   1900-2827       NaN   \n",
       "3  MENU IN GERMAN AND ENGLISH; ILLUS, HARBOR SCEN...   1900-2828       NaN   \n",
       "4  MENU IN GERMAN AND ENGLISH; ILLUS, HARBOR SCEN...   1900-2829       NaN   \n",
       "\n",
       "   language        date                    location  location_type currency  \\\n",
       "0       NaN  1900-04-15               Hotel Eastman            NaN      NaN   \n",
       "1       NaN  1900-04-15            Republican House            NaN      NaN   \n",
       "2       NaN  1900-04-16  Norddeutscher Lloyd Bremen            NaN      NaN   \n",
       "3       NaN  1900-04-16  Norddeutscher Lloyd Bremen            NaN      NaN   \n",
       "4       NaN  1900-04-16  Norddeutscher Lloyd Bremen            NaN      NaN   \n",
       "\n",
       "  currency_symbol    status  page_count  dish_count  \n",
       "0             NaN  complete           2          67  \n",
       "1             NaN  complete           2          34  \n",
       "2             NaN  complete           2          84  \n",
       "3             NaN  complete           2          63  \n",
       "4             NaN  complete           4          33  "
      ]
     },
     "execution_count": 8,
     "metadata": {},
     "output_type": "execute_result"
    }
   ],
   "source": [
    "# Overview menu\n",
    "print(menu.shape)\n",
    "print(menu.columns)\n",
    "menu.head(n=5)"
   ]
  },
  {
   "cell_type": "code",
   "execution_count": 9,
   "metadata": {
    "collapsed": false,
    "deletable": true,
    "editable": true
   },
   "outputs": [
    {
     "name": "stdout",
     "output_type": "stream",
     "text": [
      "0 0\n"
     ]
    }
   ],
   "source": [
    "# Check if id can be used as unique identifier in menu\n",
    "print(menu['id'].isnull().sum(), menu.duplicated(['id']).sum())"
   ]
  },
  {
   "cell_type": "code",
   "execution_count": 10,
   "metadata": {
    "collapsed": false,
    "deletable": true,
    "editable": true
   },
   "outputs": [
    {
     "name": "stdout",
     "output_type": "stream",
     "text": [
      "Name nulls     -  14348\n",
      "Sponsor nulls  -  1561\n",
      "Place nulls    -  9422\n",
      "Location nulls -  0\n"
     ]
    }
   ],
   "source": [
    "# Check which of name, sponsor, place, location are 'cleaner' to describe location of menu\n",
    "print(\"Name nulls     - \", menu.name.isnull().sum())\n",
    "print(\"Sponsor nulls  - \", menu.sponsor.isnull().sum())\n",
    "print(\"Place nulls    - \", menu.place.isnull().sum())\n",
    "print(\"Location nulls - \", menu.location.isnull().sum())"
   ]
  },
  {
   "cell_type": "code",
   "execution_count": 3,
   "metadata": {
    "collapsed": true,
    "deletable": true,
    "editable": true
   },
   "outputs": [],
   "source": [
    "# Copy relevant fields to new df\n",
    "mdf = menu[['id', 'event', 'venue', 'occasion', 'date', 'location', 'status', 'dish_count']]"
   ]
  },
  {
   "cell_type": "code",
   "execution_count": 4,
   "metadata": {
    "collapsed": false,
    "deletable": true,
    "editable": true
   },
   "outputs": [],
   "source": [
    "# Split date to year, month and day columns\n",
    "# Avoid loc warning about writes making it back to the original frame \n",
    "pd.options.mode.chained_assignment = None\n",
    "mdf['year'], mdf['month'], mdf['day'] = mdf['date'].str.split('-', 2).str"
   ]
  },
  {
   "cell_type": "code",
   "execution_count": 5,
   "metadata": {
    "collapsed": false,
    "deletable": true,
    "editable": true
   },
   "outputs": [],
   "source": [
    "# Make to string, lower case and remove special characters\n",
    "mdf = mdf.apply(lambda x: x.astype(str).str.lower())\n",
    "mdf = mdf.apply(lambda x: x.replace('[^A-Za-z0-9]',' ',regex=True))\n",
    "mdf = mdf.apply(lambda x: x.str.strip())\n",
    "del mdf['date']"
   ]
  },
  {
   "cell_type": "code",
   "execution_count": 6,
   "metadata": {
    "collapsed": false,
    "deletable": true,
    "editable": true
   },
   "outputs": [
    {
     "name": "stdout",
     "output_type": "stream",
     "text": [
      "Year  - ['0001', '0190', '1091', '1851', '1852'] ['2008', '2012', '2015', '2928', 'nan']\n",
      "Month - ['01', '02', '03', '04', '05'] ['09', '10', '11', '12', 'nan']\n",
      "Day   - ['01', '02', '03', '04', '05'] ['28', '29', '30', '31', 'nan']\n"
     ]
    }
   ],
   "source": [
    "# Find max and min values for year\n",
    "print(\"Year  -\", sorted(mdf.year.unique())[0:5], sorted(mdf.year.unique())[-5:])\n",
    "print(\"Month -\", sorted(mdf.month.unique())[0:5], sorted(mdf.month.unique())[-5:])\n",
    "print(\"Day   -\", sorted(mdf.day.unique())[0:5], sorted(mdf.day.unique())[-5:])"
   ]
  },
  {
   "cell_type": "code",
   "execution_count": 7,
   "metadata": {
    "collapsed": false,
    "deletable": true,
    "editable": true
   },
   "outputs": [
    {
     "name": "stdout",
     "output_type": "stream",
     "text": [
      "Year nulls  -  586\n",
      "Month nulls -  586\n",
      "Day nulls   -  586\n"
     ]
    }
   ],
   "source": [
    "# Find if dates are relatable and find count to decided if observations can be dropped\n",
    "print(\"Year nulls  - \", len(mdf[mdf.year=='nan']))\n",
    "print(\"Month nulls - \", len(mdf[mdf.month=='nan']))\n",
    "print(\"Day nulls   - \", len(mdf[mdf.day=='nan']))"
   ]
  },
  {
   "cell_type": "code",
   "execution_count": 8,
   "metadata": {
    "collapsed": false,
    "deletable": true,
    "editable": true
   },
   "outputs": [
    {
     "data": {
      "text/plain": [
       "(0, 10)"
      ]
     },
     "execution_count": 8,
     "metadata": {},
     "output_type": "execute_result"
    }
   ],
   "source": [
    "mdf[((mdf['year'] < '1800') & (mdf['year'] > '2017'))].shape"
   ]
  },
  {
   "cell_type": "code",
   "execution_count": 9,
   "metadata": {
    "collapsed": true,
    "deletable": true,
    "editable": true
   },
   "outputs": [],
   "source": [
    "# Hardly any records to affect if incorrect guess\n",
    "mdf.loc[mdf['year'] =='0190', 'year'] = '1990'\n",
    "mdf.loc[mdf['year'] =='1091', 'year'] = '1991'\n",
    "mdf.loc[mdf['year'] =='2928', 'year'] = '1928'\n",
    "mdf.loc[mdf['year'] =='0001', 'year'] = '2001'"
   ]
  },
  {
   "cell_type": "code",
   "execution_count": 10,
   "metadata": {
    "collapsed": false,
    "deletable": true,
    "editable": true
   },
   "outputs": [
    {
     "data": {
      "text/plain": [
       "(16959, 10)"
      ]
     },
     "execution_count": 10,
     "metadata": {},
     "output_type": "execute_result"
    }
   ],
   "source": [
    "mdf[((mdf['year'] > '1800') & (mdf['year'] <= '2017')) & \\\n",
    "          ((mdf['month'] >= '01') & (mdf['month'] <= '12')) & \\\n",
    "          ((mdf['day'] >= '01') & (mdf['day'] <= '31')) ].shape"
   ]
  },
  {
   "cell_type": "code",
   "execution_count": 11,
   "metadata": {
    "collapsed": true,
    "deletable": true,
    "editable": true
   },
   "outputs": [],
   "source": [
    "# Leave out the records with null values. Enough data to work with\n",
    "mdf = mdf[((mdf['year'] > '1800') & (mdf['year'] <= '2017')) & \\\n",
    "          ((mdf['month'] >= '01') & (mdf['month'] <= '12')) & \\\n",
    "          ((mdf['day'] >= '01') & (mdf['day'] <= '31')) ]"
   ]
  },
  {
   "cell_type": "code",
   "execution_count": 12,
   "metadata": {
    "collapsed": true,
    "deletable": true,
    "editable": true
   },
   "outputs": [],
   "source": [
    "mdf[\"id\"] = mdf.id.apply(int)\n",
    "mdf[\"dish_count\"] = mdf.dish_count.apply(int)\n",
    "mdf[\"year\"] = mdf.year.apply(int)\n",
    "mdf[\"month\"] = mdf.month.apply(int)\n",
    "mdf[\"day\"] = mdf.day.apply(int)"
   ]
  },
  {
   "cell_type": "code",
   "execution_count": 13,
   "metadata": {
    "collapsed": false,
    "deletable": true,
    "editable": true
   },
   "outputs": [
    {
     "name": "stdout",
     "output_type": "stream",
     "text": [
      "Unique Status Values   # - 2\n",
      "Unique Status Values     - ['complete' 'under review']\n"
     ]
    }
   ],
   "source": [
    "# See if the Status categorical feature has limited values\n",
    "print('Unique Status Values   # -',len(mdf.status.unique()))\n",
    "print('Unique Status Values     -',mdf.status.unique())"
   ]
  },
  {
   "cell_type": "code",
   "execution_count": 16,
   "metadata": {
    "collapsed": false,
    "deletable": true,
    "editable": true
   },
   "outputs": [
    {
     "name": "stdout",
     "output_type": "stream",
     "text": [
      "Unique Event Values   # - 1649\n",
      "Unique Event Values     - ['breakfast' 'dinner' 'fruhstuck breakfast' 'lunch' 'supper'\n",
      " 'cafe luncheon' 'annual banquet' 'dinne' 'nan' 'luncheon' 'carte du jour'\n",
      " 'annual meeting' 'banquet of the fifty ninth annual convention'\n",
      " 'fifth annual reunion' 'shakepeare commemoration'\n",
      " '26th anniversary banquet' 'twenty ninth annual dinner' 'sunday dinner'\n",
      " 'second annual dinner' 'seventh annual dinner' 'lunch   dinner'\n",
      " 'annual dinner'\n",
      " 'complimentary banquet given by the city government of boston to the boards of trade of the western cities'\n",
      " 'fest bankett' 'daily menu' 'daily menu   11 30 to 3 00'\n",
      " 'dinner to the board of officers of the catholic club of the city of new york'\n",
      " 'annual outing of edward thompson co' 'banquet' 'menu'\n",
      " 'semi annual dinner' 'souper' '11th annual banquet'\n",
      " 'daily menu   11 30 t0 3 00' 'a la carte menu' 'tiffin' 'annual outing'\n",
      " 'evening dinner' 'dinner in honor of h i m mutsu hito 47th birthday'\n",
      " 'evening meal' 'daily' 'bill of fare' 'dnner'\n",
      " 'dinner given to mr  f w  mann  lieut  a i r   previous to his departure for south africa'\n",
      " 'dinnwe' 'dinner menu' 'cafe   restaurant menu'\n",
      " 'personally conducted tour through mexico and calfiornia   breakfast'\n",
      " 'table d hote lunch' 'luncheon menu']\n"
     ]
    }
   ],
   "source": [
    "# See if the Event categorical feature has limited values\n",
    "print('Unique Event Values   # -',len(mdf.event.unique()))\n",
    "print('Unique Event Values     -',mdf.event.unique()[0:50])"
   ]
  },
  {
   "cell_type": "code",
   "execution_count": 15,
   "metadata": {
    "collapsed": false,
    "deletable": true,
    "editable": true
   },
   "outputs": [
    {
     "data": {
      "text/html": [
       "<div>\n",
       "<table border=\"1\" class=\"dataframe\">\n",
       "  <thead>\n",
       "    <tr style=\"text-align: right;\">\n",
       "      <th></th>\n",
       "      <th>id</th>\n",
       "      <th>event</th>\n",
       "      <th>venue</th>\n",
       "      <th>occasion</th>\n",
       "      <th>location</th>\n",
       "      <th>status</th>\n",
       "      <th>dish_count</th>\n",
       "      <th>year</th>\n",
       "      <th>month</th>\n",
       "      <th>day</th>\n",
       "    </tr>\n",
       "  </thead>\n",
       "  <tbody>\n",
       "    <tr>\n",
       "      <th>0</th>\n",
       "      <td>12463</td>\n",
       "      <td>breakfast</td>\n",
       "      <td>commercial</td>\n",
       "      <td>easter</td>\n",
       "      <td>hotel eastman</td>\n",
       "      <td>complete</td>\n",
       "      <td>67</td>\n",
       "      <td>1900</td>\n",
       "      <td>4</td>\n",
       "      <td>15</td>\n",
       "    </tr>\n",
       "    <tr>\n",
       "      <th>1</th>\n",
       "      <td>12464</td>\n",
       "      <td>dinner</td>\n",
       "      <td>commercial</td>\n",
       "      <td>easter</td>\n",
       "      <td>republican house</td>\n",
       "      <td>complete</td>\n",
       "      <td>34</td>\n",
       "      <td>1900</td>\n",
       "      <td>4</td>\n",
       "      <td>15</td>\n",
       "    </tr>\n",
       "    <tr>\n",
       "      <th>2</th>\n",
       "      <td>12465</td>\n",
       "      <td>fruhstuck breakfast</td>\n",
       "      <td>commercial</td>\n",
       "      <td>nan</td>\n",
       "      <td>norddeutscher lloyd bremen</td>\n",
       "      <td>complete</td>\n",
       "      <td>84</td>\n",
       "      <td>1900</td>\n",
       "      <td>4</td>\n",
       "      <td>16</td>\n",
       "    </tr>\n",
       "    <tr>\n",
       "      <th>3</th>\n",
       "      <td>12466</td>\n",
       "      <td>lunch</td>\n",
       "      <td>commercial</td>\n",
       "      <td>nan</td>\n",
       "      <td>norddeutscher lloyd bremen</td>\n",
       "      <td>complete</td>\n",
       "      <td>63</td>\n",
       "      <td>1900</td>\n",
       "      <td>4</td>\n",
       "      <td>16</td>\n",
       "    </tr>\n",
       "    <tr>\n",
       "      <th>4</th>\n",
       "      <td>12467</td>\n",
       "      <td>dinner</td>\n",
       "      <td>commercial</td>\n",
       "      <td>nan</td>\n",
       "      <td>norddeutscher lloyd bremen</td>\n",
       "      <td>complete</td>\n",
       "      <td>33</td>\n",
       "      <td>1900</td>\n",
       "      <td>4</td>\n",
       "      <td>16</td>\n",
       "    </tr>\n",
       "    <tr>\n",
       "      <th>5</th>\n",
       "      <td>12468</td>\n",
       "      <td>dinner</td>\n",
       "      <td>commercial</td>\n",
       "      <td>nan</td>\n",
       "      <td>canadian pacific railway company</td>\n",
       "      <td>complete</td>\n",
       "      <td>37</td>\n",
       "      <td>1900</td>\n",
       "      <td>4</td>\n",
       "      <td>16</td>\n",
       "    </tr>\n",
       "    <tr>\n",
       "      <th>6</th>\n",
       "      <td>12469</td>\n",
       "      <td>supper</td>\n",
       "      <td>commercial</td>\n",
       "      <td>nan</td>\n",
       "      <td>hotel netherland</td>\n",
       "      <td>complete</td>\n",
       "      <td>144</td>\n",
       "      <td>1900</td>\n",
       "      <td>4</td>\n",
       "      <td>16</td>\n",
       "    </tr>\n",
       "    <tr>\n",
       "      <th>7</th>\n",
       "      <td>12470</td>\n",
       "      <td>fruhstuck breakfast</td>\n",
       "      <td>commercial</td>\n",
       "      <td>nan</td>\n",
       "      <td>norddeutscher lloyd bremen</td>\n",
       "      <td>complete</td>\n",
       "      <td>80</td>\n",
       "      <td>1900</td>\n",
       "      <td>4</td>\n",
       "      <td>17</td>\n",
       "    </tr>\n",
       "    <tr>\n",
       "      <th>8</th>\n",
       "      <td>12471</td>\n",
       "      <td>lunch</td>\n",
       "      <td>commercial</td>\n",
       "      <td>nan</td>\n",
       "      <td>norddeutscher lloyd bremen</td>\n",
       "      <td>complete</td>\n",
       "      <td>67</td>\n",
       "      <td>1900</td>\n",
       "      <td>4</td>\n",
       "      <td>17</td>\n",
       "    </tr>\n",
       "    <tr>\n",
       "      <th>9</th>\n",
       "      <td>12472</td>\n",
       "      <td>dinner</td>\n",
       "      <td>commercial</td>\n",
       "      <td>nan</td>\n",
       "      <td>norddeutscher lloyd bremen</td>\n",
       "      <td>complete</td>\n",
       "      <td>29</td>\n",
       "      <td>1900</td>\n",
       "      <td>4</td>\n",
       "      <td>17</td>\n",
       "    </tr>\n",
       "  </tbody>\n",
       "</table>\n",
       "</div>"
      ],
      "text/plain": [
       "      id                event       venue occasion  \\\n",
       "0  12463            breakfast  commercial   easter   \n",
       "1  12464               dinner  commercial   easter   \n",
       "2  12465  fruhstuck breakfast  commercial      nan   \n",
       "3  12466                lunch  commercial      nan   \n",
       "4  12467               dinner  commercial      nan   \n",
       "5  12468               dinner  commercial      nan   \n",
       "6  12469               supper  commercial      nan   \n",
       "7  12470  fruhstuck breakfast  commercial      nan   \n",
       "8  12471                lunch  commercial      nan   \n",
       "9  12472               dinner  commercial      nan   \n",
       "\n",
       "                           location    status  dish_count  year  month  day  \n",
       "0                     hotel eastman  complete          67  1900      4   15  \n",
       "1                  republican house  complete          34  1900      4   15  \n",
       "2        norddeutscher lloyd bremen  complete          84  1900      4   16  \n",
       "3        norddeutscher lloyd bremen  complete          63  1900      4   16  \n",
       "4        norddeutscher lloyd bremen  complete          33  1900      4   16  \n",
       "5  canadian pacific railway company  complete          37  1900      4   16  \n",
       "6                  hotel netherland  complete         144  1900      4   16  \n",
       "7        norddeutscher lloyd bremen  complete          80  1900      4   17  \n",
       "8        norddeutscher lloyd bremen  complete          67  1900      4   17  \n",
       "9        norddeutscher lloyd bremen  complete          29  1900      4   17  "
      ]
     },
     "execution_count": 15,
     "metadata": {},
     "output_type": "execute_result"
    }
   ],
   "source": [
    "mdf.head(n=10)"
   ]
  },
  {
   "cell_type": "code",
   "execution_count": 32,
   "metadata": {
    "collapsed": false
   },
   "outputs": [
    {
     "data": {
      "text/html": [
       "<div>\n",
       "<table border=\"1\" class=\"dataframe\">\n",
       "  <thead>\n",
       "    <tr style=\"text-align: right;\">\n",
       "      <th></th>\n",
       "      <th>id</th>\n",
       "      <th>event</th>\n",
       "      <th>venue</th>\n",
       "      <th>occasion</th>\n",
       "      <th>location</th>\n",
       "      <th>status</th>\n",
       "      <th>dish_count</th>\n",
       "      <th>year</th>\n",
       "      <th>month</th>\n",
       "      <th>day</th>\n",
       "      <th>eventt</th>\n",
       "    </tr>\n",
       "  </thead>\n",
       "  <tbody>\n",
       "    <tr>\n",
       "      <th>0</th>\n",
       "      <td>12463</td>\n",
       "      <td>breakfast</td>\n",
       "      <td>commercial</td>\n",
       "      <td>easter</td>\n",
       "      <td>hotel eastman</td>\n",
       "      <td>complete</td>\n",
       "      <td>67</td>\n",
       "      <td>1900</td>\n",
       "      <td>4</td>\n",
       "      <td>15</td>\n",
       "      <td>breakfast</td>\n",
       "    </tr>\n",
       "    <tr>\n",
       "      <th>1</th>\n",
       "      <td>12464</td>\n",
       "      <td>dinner</td>\n",
       "      <td>commercial</td>\n",
       "      <td>easter</td>\n",
       "      <td>republican house</td>\n",
       "      <td>complete</td>\n",
       "      <td>34</td>\n",
       "      <td>1900</td>\n",
       "      <td>4</td>\n",
       "      <td>15</td>\n",
       "      <td>dinner</td>\n",
       "    </tr>\n",
       "    <tr>\n",
       "      <th>2</th>\n",
       "      <td>12465</td>\n",
       "      <td>fruhstuck breakfast</td>\n",
       "      <td>commercial</td>\n",
       "      <td>nan</td>\n",
       "      <td>norddeutscher lloyd bremen</td>\n",
       "      <td>complete</td>\n",
       "      <td>84</td>\n",
       "      <td>1900</td>\n",
       "      <td>4</td>\n",
       "      <td>16</td>\n",
       "      <td>breakfast</td>\n",
       "    </tr>\n",
       "    <tr>\n",
       "      <th>3</th>\n",
       "      <td>12466</td>\n",
       "      <td>lunch</td>\n",
       "      <td>commercial</td>\n",
       "      <td>nan</td>\n",
       "      <td>norddeutscher lloyd bremen</td>\n",
       "      <td>complete</td>\n",
       "      <td>63</td>\n",
       "      <td>1900</td>\n",
       "      <td>4</td>\n",
       "      <td>16</td>\n",
       "      <td>lunch</td>\n",
       "    </tr>\n",
       "    <tr>\n",
       "      <th>4</th>\n",
       "      <td>12467</td>\n",
       "      <td>dinner</td>\n",
       "      <td>commercial</td>\n",
       "      <td>nan</td>\n",
       "      <td>norddeutscher lloyd bremen</td>\n",
       "      <td>complete</td>\n",
       "      <td>33</td>\n",
       "      <td>1900</td>\n",
       "      <td>4</td>\n",
       "      <td>16</td>\n",
       "      <td>dinner</td>\n",
       "    </tr>\n",
       "    <tr>\n",
       "      <th>5</th>\n",
       "      <td>12468</td>\n",
       "      <td>dinner</td>\n",
       "      <td>commercial</td>\n",
       "      <td>nan</td>\n",
       "      <td>canadian pacific railway company</td>\n",
       "      <td>complete</td>\n",
       "      <td>37</td>\n",
       "      <td>1900</td>\n",
       "      <td>4</td>\n",
       "      <td>16</td>\n",
       "      <td>dinner</td>\n",
       "    </tr>\n",
       "    <tr>\n",
       "      <th>6</th>\n",
       "      <td>12469</td>\n",
       "      <td>supper</td>\n",
       "      <td>commercial</td>\n",
       "      <td>nan</td>\n",
       "      <td>hotel netherland</td>\n",
       "      <td>complete</td>\n",
       "      <td>144</td>\n",
       "      <td>1900</td>\n",
       "      <td>4</td>\n",
       "      <td>16</td>\n",
       "      <td>dinner</td>\n",
       "    </tr>\n",
       "    <tr>\n",
       "      <th>7</th>\n",
       "      <td>12470</td>\n",
       "      <td>fruhstuck breakfast</td>\n",
       "      <td>commercial</td>\n",
       "      <td>nan</td>\n",
       "      <td>norddeutscher lloyd bremen</td>\n",
       "      <td>complete</td>\n",
       "      <td>80</td>\n",
       "      <td>1900</td>\n",
       "      <td>4</td>\n",
       "      <td>17</td>\n",
       "      <td>breakfast</td>\n",
       "    </tr>\n",
       "    <tr>\n",
       "      <th>8</th>\n",
       "      <td>12471</td>\n",
       "      <td>lunch</td>\n",
       "      <td>commercial</td>\n",
       "      <td>nan</td>\n",
       "      <td>norddeutscher lloyd bremen</td>\n",
       "      <td>complete</td>\n",
       "      <td>67</td>\n",
       "      <td>1900</td>\n",
       "      <td>4</td>\n",
       "      <td>17</td>\n",
       "      <td>lunch</td>\n",
       "    </tr>\n",
       "    <tr>\n",
       "      <th>9</th>\n",
       "      <td>12472</td>\n",
       "      <td>dinner</td>\n",
       "      <td>commercial</td>\n",
       "      <td>nan</td>\n",
       "      <td>norddeutscher lloyd bremen</td>\n",
       "      <td>complete</td>\n",
       "      <td>29</td>\n",
       "      <td>1900</td>\n",
       "      <td>4</td>\n",
       "      <td>17</td>\n",
       "      <td>dinner</td>\n",
       "    </tr>\n",
       "    <tr>\n",
       "      <th>10</th>\n",
       "      <td>12473</td>\n",
       "      <td>cafe luncheon</td>\n",
       "      <td>commercial</td>\n",
       "      <td>nan</td>\n",
       "      <td>hotel marlborough</td>\n",
       "      <td>complete</td>\n",
       "      <td>19</td>\n",
       "      <td>1900</td>\n",
       "      <td>4</td>\n",
       "      <td>17</td>\n",
       "      <td>cafe luncheon</td>\n",
       "    </tr>\n",
       "    <tr>\n",
       "      <th>11</th>\n",
       "      <td>12474</td>\n",
       "      <td>annual banquet</td>\n",
       "      <td>commercial</td>\n",
       "      <td>nan</td>\n",
       "      <td>alpha of zeta psi</td>\n",
       "      <td>complete</td>\n",
       "      <td>38</td>\n",
       "      <td>1900</td>\n",
       "      <td>4</td>\n",
       "      <td>17</td>\n",
       "      <td>organized</td>\n",
       "    </tr>\n",
       "    <tr>\n",
       "      <th>12</th>\n",
       "      <td>12475</td>\n",
       "      <td>dinner</td>\n",
       "      <td>commercial</td>\n",
       "      <td>nan</td>\n",
       "      <td>manhattan hotel</td>\n",
       "      <td>complete</td>\n",
       "      <td>176</td>\n",
       "      <td>1900</td>\n",
       "      <td>4</td>\n",
       "      <td>18</td>\n",
       "      <td>dinner</td>\n",
       "    </tr>\n",
       "    <tr>\n",
       "      <th>13</th>\n",
       "      <td>12476</td>\n",
       "      <td>dinne</td>\n",
       "      <td>commercial</td>\n",
       "      <td>nan</td>\n",
       "      <td>pacific mail steamship company</td>\n",
       "      <td>complete</td>\n",
       "      <td>21</td>\n",
       "      <td>1900</td>\n",
       "      <td>4</td>\n",
       "      <td>18</td>\n",
       "      <td>dinner</td>\n",
       "    </tr>\n",
       "    <tr>\n",
       "      <th>14</th>\n",
       "      <td>12477</td>\n",
       "      <td>breakfast</td>\n",
       "      <td>commercial</td>\n",
       "      <td>nan</td>\n",
       "      <td>occidental   oriental</td>\n",
       "      <td>complete</td>\n",
       "      <td>24</td>\n",
       "      <td>1900</td>\n",
       "      <td>4</td>\n",
       "      <td>18</td>\n",
       "      <td>breakfast</td>\n",
       "    </tr>\n",
       "    <tr>\n",
       "      <th>15</th>\n",
       "      <td>12478</td>\n",
       "      <td>nan</td>\n",
       "      <td>nan</td>\n",
       "      <td>nan</td>\n",
       "      <td>occidental   oriental</td>\n",
       "      <td>complete</td>\n",
       "      <td>24</td>\n",
       "      <td>1900</td>\n",
       "      <td>4</td>\n",
       "      <td>18</td>\n",
       "      <td>nan</td>\n",
       "    </tr>\n",
       "    <tr>\n",
       "      <th>16</th>\n",
       "      <td>12479</td>\n",
       "      <td>dinner</td>\n",
       "      <td>commercial</td>\n",
       "      <td>nan</td>\n",
       "      <td>occidental   oriental steamship company</td>\n",
       "      <td>complete</td>\n",
       "      <td>44</td>\n",
       "      <td>1900</td>\n",
       "      <td>4</td>\n",
       "      <td>18</td>\n",
       "      <td>dinner</td>\n",
       "    </tr>\n",
       "    <tr>\n",
       "      <th>17</th>\n",
       "      <td>12480</td>\n",
       "      <td>breakfast</td>\n",
       "      <td>commercial</td>\n",
       "      <td>nan</td>\n",
       "      <td>canadian pacific railway company</td>\n",
       "      <td>complete</td>\n",
       "      <td>37</td>\n",
       "      <td>1900</td>\n",
       "      <td>4</td>\n",
       "      <td>18</td>\n",
       "      <td>breakfast</td>\n",
       "    </tr>\n",
       "    <tr>\n",
       "      <th>18</th>\n",
       "      <td>12481</td>\n",
       "      <td>luncheon</td>\n",
       "      <td>commercial</td>\n",
       "      <td>nan</td>\n",
       "      <td>canadian pacific railway company</td>\n",
       "      <td>complete</td>\n",
       "      <td>42</td>\n",
       "      <td>1900</td>\n",
       "      <td>4</td>\n",
       "      <td>18</td>\n",
       "      <td>luncheon</td>\n",
       "    </tr>\n",
       "    <tr>\n",
       "      <th>19</th>\n",
       "      <td>12482</td>\n",
       "      <td>dinner</td>\n",
       "      <td>nan</td>\n",
       "      <td>nan</td>\n",
       "      <td>noviomagus</td>\n",
       "      <td>complete</td>\n",
       "      <td>16</td>\n",
       "      <td>1900</td>\n",
       "      <td>4</td>\n",
       "      <td>18</td>\n",
       "      <td>dinner</td>\n",
       "    </tr>\n",
       "  </tbody>\n",
       "</table>\n",
       "</div>"
      ],
      "text/plain": [
       "       id                event       venue occasion  \\\n",
       "0   12463            breakfast  commercial   easter   \n",
       "1   12464               dinner  commercial   easter   \n",
       "2   12465  fruhstuck breakfast  commercial      nan   \n",
       "3   12466                lunch  commercial      nan   \n",
       "4   12467               dinner  commercial      nan   \n",
       "5   12468               dinner  commercial      nan   \n",
       "6   12469               supper  commercial      nan   \n",
       "7   12470  fruhstuck breakfast  commercial      nan   \n",
       "8   12471                lunch  commercial      nan   \n",
       "9   12472               dinner  commercial      nan   \n",
       "10  12473        cafe luncheon  commercial      nan   \n",
       "11  12474       annual banquet  commercial      nan   \n",
       "12  12475               dinner  commercial      nan   \n",
       "13  12476                dinne  commercial      nan   \n",
       "14  12477            breakfast  commercial      nan   \n",
       "15  12478                  nan         nan      nan   \n",
       "16  12479               dinner  commercial      nan   \n",
       "17  12480            breakfast  commercial      nan   \n",
       "18  12481             luncheon  commercial      nan   \n",
       "19  12482               dinner         nan      nan   \n",
       "\n",
       "                                   location    status  dish_count  year  \\\n",
       "0                             hotel eastman  complete          67  1900   \n",
       "1                          republican house  complete          34  1900   \n",
       "2                norddeutscher lloyd bremen  complete          84  1900   \n",
       "3                norddeutscher lloyd bremen  complete          63  1900   \n",
       "4                norddeutscher lloyd bremen  complete          33  1900   \n",
       "5          canadian pacific railway company  complete          37  1900   \n",
       "6                          hotel netherland  complete         144  1900   \n",
       "7                norddeutscher lloyd bremen  complete          80  1900   \n",
       "8                norddeutscher lloyd bremen  complete          67  1900   \n",
       "9                norddeutscher lloyd bremen  complete          29  1900   \n",
       "10                        hotel marlborough  complete          19  1900   \n",
       "11                        alpha of zeta psi  complete          38  1900   \n",
       "12                          manhattan hotel  complete         176  1900   \n",
       "13           pacific mail steamship company  complete          21  1900   \n",
       "14                    occidental   oriental  complete          24  1900   \n",
       "15                    occidental   oriental  complete          24  1900   \n",
       "16  occidental   oriental steamship company  complete          44  1900   \n",
       "17         canadian pacific railway company  complete          37  1900   \n",
       "18         canadian pacific railway company  complete          42  1900   \n",
       "19                               noviomagus  complete          16  1900   \n",
       "\n",
       "    month  day         eventt  \n",
       "0       4   15      breakfast  \n",
       "1       4   15         dinner  \n",
       "2       4   16      breakfast  \n",
       "3       4   16          lunch  \n",
       "4       4   16         dinner  \n",
       "5       4   16         dinner  \n",
       "6       4   16         dinner  \n",
       "7       4   17      breakfast  \n",
       "8       4   17          lunch  \n",
       "9       4   17         dinner  \n",
       "10      4   17  cafe luncheon  \n",
       "11      4   17      organized  \n",
       "12      4   18         dinner  \n",
       "13      4   18         dinner  \n",
       "14      4   18      breakfast  \n",
       "15      4   18            nan  \n",
       "16      4   18         dinner  \n",
       "17      4   18      breakfast  \n",
       "18      4   18       luncheon  \n",
       "19      4   18         dinner  "
      ]
     },
     "execution_count": 32,
     "metadata": {},
     "output_type": "execute_result"
    }
   ],
   "source": [
    "mdf.head(n=20)"
   ]
  },
  {
   "cell_type": "code",
   "execution_count": 35,
   "metadata": {
    "collapsed": false,
    "deletable": true,
    "editable": true
   },
   "outputs": [],
   "source": [
    "# Make approximate event type from event\n",
    "# Check type of source field. As the object had both float and string elements\n",
    "mdf.event.map(lambda x: type(x))\n",
    "# Cast elements of the event object as str and make eventt\n",
    "mdf['eventt'] = mdf.event.apply(str)\n",
    "\n",
    "def set_eventt(lval):\n",
    "    for idx in range(len(lval)):\n",
    "        val = [x.replace(\"_\",\" \") for x in str.split(lval[idx],\":\")]\n",
    "        # If close match found, then replace with last ordered, matched lval else miscellaneous\n",
    "        mdf.eventt = mdf.eventt.apply(lambda txt: (val[len(val)-1]) \\\n",
    "                 if len(difflib.get_close_matches(val[len(val)-2], txt.split())) \\\n",
    "                 else txt)\n",
    "        #mdf.loc[mdf['eventt'].str.contains(, case=False), 'eventt'] = val[len(val)-1]\n",
    "\n",
    "#List of possible event values with search and replace string seperated by : if different\n",
    "events = \"lunch breakfast dinner morning:breakfast afternoon:lunch supper:dinner \\\n",
    "          menu annual:organized meeting:organized banquet:organized convention:organized \\\n",
    "          reunion:organized \\\n",
    "          christmas:holiday new_year:holiday patrick:holiday july:holiday \\\n",
    "          thanksgiving:holiday veterans:holiday day:holiday \\\n",
    "          anniversary:celebration birthday:celebration wedding:celebration\".split()\n",
    "set_eventt(events)\n",
    "allowed_events=[x.split(':')[-1].replace(\"_\",\" \") for x in events]\n",
    "mdf.loc[~mdf[\"eventt\"].isin(allowed_events), \"eventt\"] = \"miscellaneous\""
   ]
  },
  {
   "cell_type": "code",
   "execution_count": 25,
   "metadata": {
    "collapsed": false,
    "deletable": true,
    "editable": true
   },
   "outputs": [
    {
     "name": "stdout",
     "output_type": "stream",
     "text": [
      "Unique Eventt Values   # - 8\n",
      "Unique Eventt Values     - ['breakfast' 'dinner' 'lunch' 'organized' 'miscellaneous' 'menu' 'holiday'\n",
      " 'celebration']\n"
     ]
    }
   ],
   "source": [
    "# See if the approximated Eventt categorical feature has limited values\n",
    "print('Unique Eventt Values   # -',len(mdf.eventt.unique()))\n",
    "print('Unique Eventt Values     -',mdf.eventt.unique())"
   ]
  },
  {
   "cell_type": "code",
   "execution_count": 26,
   "metadata": {
    "collapsed": false,
    "deletable": true,
    "editable": true
   },
   "outputs": [
    {
     "name": "stdout",
     "output_type": "stream",
     "text": [
      "Unique Venue Values    # - 141\n",
      "Unique Occasion Values # - 320\n"
     ]
    }
   ],
   "source": [
    "print('Unique Venue Values    # -',len(mdf.venue.unique()))\n",
    "print('Unique Occasion Values # -',len(mdf.occasion.unique()))"
   ]
  },
  {
   "cell_type": "code",
   "execution_count": 27,
   "metadata": {
    "collapsed": false,
    "deletable": true,
    "editable": true
   },
   "outputs": [
    {
     "data": {
      "text/plain": [
       "pandas.core.series.Series"
      ]
     },
     "execution_count": 27,
     "metadata": {},
     "output_type": "execute_result"
    }
   ],
   "source": [
    "type(mdf.year.map(lambda x: int(round(x/10,2)*10)))"
   ]
  },
  {
   "cell_type": "code",
   "execution_count": 28,
   "metadata": {
    "collapsed": false,
    "deletable": true,
    "editable": true
   },
   "outputs": [
    {
     "data": {
      "image/png": "[encoded data removed]",
      "text/plain": [
       "<matplotlib.figure.Figure at 0x118b07470>"
      ]
     },
     "metadata": {},
     "output_type": "display_data"
    }
   ],
   "source": [
    "sns.set(style=\"darkgrid\")\n",
    "ax = sns.countplot(x=(round(mdf.year/10,0)*10), data=mdf)"
   ]
  },
  {
   "cell_type": "markdown",
   "metadata": {
    "deletable": true,
    "editable": true
   },
   "source": [
    "The menus are from 1851 to 2017. However many of the menus are from the turn of the 20th century. Very few of the menus are from this century. This could be a reflection of a change in the food culture between 1900-1920. Or, it may just ne that modern menus are not yet fully included and represented in the data set"
   ]
  },
  {
   "cell_type": "code",
   "execution_count": 29,
   "metadata": {
    "collapsed": false,
    "deletable": true,
    "editable": true
   },
   "outputs": [
    {
     "data": {
      "image/png": "[encoded data removed]",
      "text/plain": [
       "<matplotlib.figure.Figure at 0x118ba93c8>"
      ]
     },
     "metadata": {},
     "output_type": "display_data"
    }
   ],
   "source": [
    "sns.set(style=\"darkgrid\")\n",
    "ax = sns.countplot(x=mdf.eventt, data=mdf)"
   ]
  },
  {
   "cell_type": "code",
   "execution_count": 30,
   "metadata": {
    "collapsed": false,
    "deletable": true,
    "editable": true
   },
   "outputs": [
    {
     "data": {
      "text/html": [
       "<div>\n",
       "<table border=\"1\" class=\"dataframe\">\n",
       "  <thead>\n",
       "    <tr style=\"text-align: right;\">\n",
       "      <th>status</th>\n",
       "      <th>complete</th>\n",
       "      <th>under review</th>\n",
       "      <th>All</th>\n",
       "    </tr>\n",
       "    <tr>\n",
       "      <th>eventt</th>\n",
       "      <th></th>\n",
       "      <th></th>\n",
       "      <th></th>\n",
       "    </tr>\n",
       "  </thead>\n",
       "  <tbody>\n",
       "    <tr>\n",
       "      <th>breakfast</th>\n",
       "      <td>1067</td>\n",
       "      <td>2</td>\n",
       "      <td>1069</td>\n",
       "    </tr>\n",
       "    <tr>\n",
       "      <th>celebration</th>\n",
       "      <td>81</td>\n",
       "      <td>0</td>\n",
       "      <td>81</td>\n",
       "    </tr>\n",
       "    <tr>\n",
       "      <th>dinner</th>\n",
       "      <td>3621</td>\n",
       "      <td>13</td>\n",
       "      <td>3634</td>\n",
       "    </tr>\n",
       "    <tr>\n",
       "      <th>holiday</th>\n",
       "      <td>68</td>\n",
       "      <td>0</td>\n",
       "      <td>68</td>\n",
       "    </tr>\n",
       "    <tr>\n",
       "      <th>lunch</th>\n",
       "      <td>1506</td>\n",
       "      <td>2</td>\n",
       "      <td>1508</td>\n",
       "    </tr>\n",
       "    <tr>\n",
       "      <th>menu</th>\n",
       "      <td>431</td>\n",
       "      <td>1</td>\n",
       "      <td>432</td>\n",
       "    </tr>\n",
       "    <tr>\n",
       "      <th>miscellaneous</th>\n",
       "      <td>9500</td>\n",
       "      <td>40</td>\n",
       "      <td>9540</td>\n",
       "    </tr>\n",
       "    <tr>\n",
       "      <th>organized</th>\n",
       "      <td>625</td>\n",
       "      <td>2</td>\n",
       "      <td>627</td>\n",
       "    </tr>\n",
       "    <tr>\n",
       "      <th>All</th>\n",
       "      <td>16899</td>\n",
       "      <td>60</td>\n",
       "      <td>16959</td>\n",
       "    </tr>\n",
       "  </tbody>\n",
       "</table>\n",
       "</div>"
      ],
      "text/plain": [
       "status         complete  under review    All\n",
       "eventt                                      \n",
       "breakfast          1067             2   1069\n",
       "celebration          81             0     81\n",
       "dinner             3621            13   3634\n",
       "holiday              68             0     68\n",
       "lunch              1506             2   1508\n",
       "menu                431             1    432\n",
       "miscellaneous      9500            40   9540\n",
       "organized           625             2    627\n",
       "All               16899            60  16959"
      ]
     },
     "execution_count": 30,
     "metadata": {},
     "output_type": "execute_result"
    }
   ],
   "source": [
    "pd.crosstab(mdf.eventt, mdf.status, margins=True)"
   ]
  },
  {
   "cell_type": "markdown",
   "metadata": {
    "deletable": true,
    "editable": true
   },
   "source": [
    "Crosstab of the menu status tells us most menus are complete and very few are under review in the system"
   ]
  },
  {
   "cell_type": "code",
   "execution_count": 31,
   "metadata": {
    "collapsed": false,
    "deletable": true,
    "editable": true
   },
   "outputs": [
    {
     "data": {
      "text/plain": [
       "['',\n",
       " 'aa',\n",
       " 'airline',\n",
       " 'alumni',\n",
       " 'cam',\n",
       " 'club',\n",
       " 'cmmercial',\n",
       " 'com',\n",
       " 'com  pol',\n",
       " 'com soc',\n",
       " 'comm',\n",
       " 'commercial',\n",
       " 'commercoa',\n",
       " 'conn',\n",
       " 'cultural',\n",
       " 'dom',\n",
       " 'educ',\n",
       " 'educ  prof',\n",
       " 'educational',\n",
       " 'edus',\n",
       " 'foreign',\n",
       " 'foreign  hotel',\n",
       " 'foreign hotel',\n",
       " 'foreign hotel restaurant',\n",
       " 'foreign restaurant',\n",
       " 'foreigneign',\n",
       " 'fraternity',\n",
       " 'gk',\n",
       " 'gov',\n",
       " 'gov t',\n",
       " 'govt',\n",
       " 'greek letter  fraternity or sorority',\n",
       " 'hotel',\n",
       " 'hotel  for',\n",
       " 'hotel restaurant',\n",
       " 'individual',\n",
       " 'mil',\n",
       " 'milit',\n",
       " 'military',\n",
       " 'musical',\n",
       " 'nac',\n",
       " 'nan',\n",
       " 'nav',\n",
       " 'naval',\n",
       " 'other',\n",
       " 'other   presumably british royal family',\n",
       " 'other  appears to be a private luncheon party',\n",
       " 'other  british royal family',\n",
       " 'other  club',\n",
       " 'other  expatriate',\n",
       " 'other  group of citizens',\n",
       " 'other  group of friends',\n",
       " 'other  head of royal family',\n",
       " 'other  hospital',\n",
       " 'other  individual',\n",
       " 'other  individually hosted party',\n",
       " 'other  international cultural group',\n",
       " 'other  literary assoc',\n",
       " 'other  london club',\n",
       " 'other  merchant ship',\n",
       " 'other  museum',\n",
       " 'other  music society',\n",
       " 'other  personal',\n",
       " 'other  private',\n",
       " 'other  private club',\n",
       " 'other  private friends',\n",
       " 'other  private group of friends',\n",
       " 'other  private host',\n",
       " 'other  private hostess',\n",
       " 'other  private hosts',\n",
       " 'other  private individual host',\n",
       " 'other  private party',\n",
       " 'other  private party  single host',\n",
       " 'other  private party by single host',\n",
       " 'other  private party with individual host',\n",
       " 'other  private paty',\n",
       " 'other  privately hosted banquet',\n",
       " 'other  privately hosted dinner',\n",
       " 'other  privately hosted dinner party',\n",
       " 'other  privately hosted luncheon',\n",
       " 'other  privately hosted party',\n",
       " 'other  residence',\n",
       " 'other  royal',\n",
       " 'other  royal figure',\n",
       " 'other  royal host',\n",
       " 'other  royal king',\n",
       " 'other  royal monarch',\n",
       " 'other  single host private party',\n",
       " 'other  single tax club',\n",
       " 'other  soc',\n",
       " 'other  special interest group',\n",
       " 'other  sport',\n",
       " 'other  sporting club',\n",
       " 'other  trade association',\n",
       " 'other  two private hosts',\n",
       " 'other club',\n",
       " 'other loft apartment',\n",
       " 'other personal',\n",
       " 'other private',\n",
       " 'other private individual',\n",
       " 'pat',\n",
       " 'patr',\n",
       " 'patriotic',\n",
       " 'pol',\n",
       " 'pol  soc',\n",
       " 'polit',\n",
       " 'political',\n",
       " 'possibly a private host',\n",
       " 'pricate',\n",
       " 'private',\n",
       " 'private party',\n",
       " 'pro',\n",
       " 'prof',\n",
       " 'prof  com',\n",
       " 'prof soc',\n",
       " 'prog',\n",
       " 'pther  individual',\n",
       " 'railroad',\n",
       " 'rel',\n",
       " 'relig',\n",
       " 'reporters of event',\n",
       " 'resort',\n",
       " 'restaurant',\n",
       " 'restaurant lunch room coffee shop',\n",
       " 'soc',\n",
       " 'soc  com',\n",
       " 'soc  mil',\n",
       " 'soc  pol',\n",
       " 'soc  relig',\n",
       " 'soc com',\n",
       " 'soc gk',\n",
       " 'soc mil',\n",
       " 'soc pol',\n",
       " 'soc relig',\n",
       " 'social',\n",
       " 'social  club',\n",
       " 'social club',\n",
       " 'som',\n",
       " 'ss  for',\n",
       " 'steamship',\n",
       " 'unknown']"
      ]
     },
     "execution_count": 31,
     "metadata": {},
     "output_type": "execute_result"
    }
   ],
   "source": [
    "sorted(mdf.venue.unique())\n",
    "#mdf.loc[mdf[\"occasion\"].isin(['gov','govt']), \"eventt\"] = \"miscellaneous\""
   ]
  },
  {
   "cell_type": "code",
   "execution_count": 32,
   "metadata": {
    "collapsed": false,
    "deletable": true,
    "editable": true
   },
   "outputs": [],
   "source": [
    "mdf[\"occasion_type\"] = mdf.venue\n",
    "mdf.loc[mdf['occasion_type'].str.contains('other'), 'occasion_type']= 'other'\n",
    "mdf.loc[mdf['occasion_type'].str.contains('airline'), 'occasion_type'] = 'airline'\n",
    "mdf.loc[mdf['occasion_type'].str.contains('aa'), 'occasion_type'] = 'airline'\n",
    "mdf.loc[mdf['occasion_type'].str.contains('cam'), 'occasion_type'] = 'commercial'\n",
    "mdf.loc[mdf['occasion_type'].str.contains('cmmercial'), 'occasion_type'] = 'commercial'\n",
    "mdf.loc[mdf['occasion_type'].str.contains('com'), 'occasion_type'] = 'commercial'\n",
    "mdf.loc[mdf['occasion_type'].str.contains('conn'), 'occasion_type'] = 'commercial'\n",
    "mdf.loc[mdf['occasion_type'].str.contains('club'), 'occasion_type'] = 'social'\n",
    "mdf.loc[mdf['occasion_type'].str.contains('dom'), 'occasion_type'] = 'commercial'\n",
    "mdf.loc[mdf['occasion_type'].str.contains('edu'), 'occasion_type'] = 'educational'\n",
    "mdf.loc[mdf['occasion_type'].str.contains('foreign'), 'occasion_type'] = 'foreign'\n",
    "mdf.loc[mdf['occasion_type'].str.contains('fraternity'), 'occasion_type'] = 'social'\n",
    "mdf.loc[mdf['occasion_type'].str.contains('gk'), 'occasion_type'] = 'government'\n",
    "mdf.loc[mdf['occasion_type'].str.contains('gov'), 'occasion_type'] = 'government'\n",
    "mdf.loc[mdf['occasion_type'].str.contains('hotel'), 'occasion_type'] = 'restauarant'\n",
    "mdf.loc[mdf['occasion_type'].str.contains('individual'), 'occasion_type'] = 'individual'\n",
    "mdf.loc[mdf['occasion_type'].str.contains('mil'), 'occasion_type'] = 'military'\n",
    "mdf.loc[mdf['occasion_type'].str.contains('nac'), 'occasion_type'] = 'military'\n",
    "mdf.loc[mdf['occasion_type'].str.contains('nav'), 'occasion_type'] = 'military'\n",
    "mdf.loc[mdf['occasion_type'].str.contains('museum'), 'occasion_type'] = 'entertainment'\n",
    "mdf.loc[mdf['occasion_type'].str.contains('music'), 'occasion_type'] = 'entertainment'\n",
    "mdf.loc[mdf['occasion_type'].str.contains('nan'), 'occasion_type'] = 'unknown'\n",
    "mdf.loc[mdf['occasion_type'].str.contains('res'), 'occasion_type'] = 'restauarant'\n",
    "mdf.loc[mdf['occasion_type'].str.contains('rel'), 'occasion_type'] = 'religious'\n",
    "mdf.loc[mdf['occasion_type'].str.contains('soc'), 'occasion_type'] = 'social'\n",
    "mdf.loc[mdf['occasion_type'].str.contains('som'), 'occasion_type'] = 'social'\n",
    "mdf.loc[mdf['occasion_type'].str.contains('ss'), 'occasion_type'] = 'social'\n",
    "mdf.loc[mdf['occasion_type'].str.contains('pol'), 'occasion_type'] = 'political'\n",
    "mdf.loc[mdf['occasion_type'].str.contains('pat'), 'occasion_type'] = 'patriotic'\n",
    "mdf.loc[mdf['occasion_type'].str.contains('pri'), 'occasion_type'] = 'private'\n",
    "mdf.loc[mdf['occasion_type'].str.contains('pro'), 'occasion_type'] = 'professional'\n",
    "mdf.loc[mdf['occasion_type'].str.contains('reporters'), 'occasion_type'] = 'social'\n",
    "mdf.loc[mdf['occasion_type'].str.contains('steamship'), 'occasion_type'] = 'social'\n",
    "mdf.loc[mdf['occasion_type'].str.contains(''), 'occasion_type'] = 'unknown'\n",
    "mdf.loc[mdf['occasion_type'].str.contains('nan'), 'occasion_type'] = 'unknown'\n",
    "\n"
   ]
  },
  {
   "cell_type": "code",
   "execution_count": 33,
   "metadata": {
    "collapsed": true,
    "deletable": true,
    "editable": true
   },
   "outputs": [],
   "source": [
    "#def similar(a, b):\n",
    "#    return SequenceMatcher(None, a, b).ratio()"
   ]
  },
  {
   "cell_type": "code",
   "execution_count": 34,
   "metadata": {
    "collapsed": false,
    "deletable": true,
    "editable": true
   },
   "outputs": [],
   "source": [
    "mdf.to_csv(\"data/Menu_Cleanse.csv\")"
   ]
  },
  {
   "cell_type": "code",
   "execution_count": null,
   "metadata": {
    "collapsed": true,
    "deletable": true,
    "editable": true
   },
   "outputs": [],
   "source": []
  }
 ],
 "metadata": {
  "kernelspec": {
   "display_name": "Python 3",
   "language": "python",
   "name": "python3"
  },
  "language_info": {
   "codemirror_mode": {
    "name": "ipython",
    "version": 3
   },
   "file_extension": ".py",
   "mimetype": "text/x-python",
   "name": "python",
   "nbconvert_exporter": "python",
   "pygments_lexer": "ipython3",
   "version": "3.6.0"
  }
 },
 "nbformat": 4,
 "nbformat_minor": 2
}
